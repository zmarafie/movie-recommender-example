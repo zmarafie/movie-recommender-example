{
 "cells": [
  {
   "cell_type": "markdown",
   "id": "696d477e",
   "metadata": {},
   "source": [
    "# Movie Recommendation System\n",
    "\n",
    "This notebook demonstrates a simple movie recommendation system using Python."
   ]
  },
  {
   "cell_type": "code",
   "execution_count": null,
   "id": "2e6f46b1",
   "metadata": {},
   "outputs": [],
   "source": [
    "import pandas as pd\n",
    "\n",
    "# Step 1: Define the movie dataset\n",
    "movies = pd.DataFrame({\n",
    "    'MovieID': range(1, 21),\n",
    "    'Title': [\n",
    "        'Inception', 'The Godfather', 'Pulp Fiction', 'The Dark Knight', 'Interstellar',\n",
    "        'Parasite', 'Avengers: Endgame', 'The Matrix', 'Forrest Gump', 'Titanic',\n",
    "        'Frozen', 'Toy Story', 'Coco', 'The Lion King', 'Shrek',\n",
    "        'Harry Potter', 'Lord of the Rings', 'Star Wars', 'Jurassic Park', 'Spider-Man'\n",
    "    ],\n",
    "    'Genre': [\n",
    "        'Sci-Fi', 'Crime', 'Crime', 'Action', 'Sci-Fi',\n",
    "        'Drama', 'Action', 'Sci-Fi', 'Drama', 'Romance',\n",
    "        'Animation', 'Animation', 'Animation', 'Animation', 'Animation',\n",
    "        'Fantasy', 'Fantasy', 'Sci-Fi', 'Adventure', 'Action'\n",
    "    ]\n",
    "})\n",
    "\n",
    "print(\"Dataset:\")\n",
    "print(movies)"
   ]
  },
  {
   "cell_type": "markdown",
   "id": "b9fd5947",
   "metadata": {},
   "source": [
    "## User Input\n",
    "\n",
    "Select 3 movies you like."
   ]
  },
  {
   "cell_type": "code",
   "execution_count": null,
   "id": "2e30177c",
   "metadata": {},
   "outputs": [],
   "source": [
    "# Step 2: User input\n",
    "liked_movies = ['Inception', 'The Matrix', 'Toy Story']\n",
    "print(\"Liked movies:\", liked_movies)"
   ]
  },
  {
   "cell_type": "markdown",
   "id": "912081a9",
   "metadata": {},
   "source": [
    "## Recommendation Logic\n",
    "\n",
    "The system recommends movies based on genres similar to the ones you like."
   ]
  },
  {
   "cell_type": "code",
   "execution_count": null,
   "id": "fc218168",
   "metadata": {},
   "outputs": [],
   "source": [
    "# Step 3: Recommendation logic\n",
    "liked_genres = movies[movies['Title'].isin(liked_movies)]['Genre'].unique()\n",
    "recommended_movies = movies[\n",
    "    (movies['Genre'].isin(liked_genres)) & (~movies['Title'].isin(liked_movies))\n",
    "]\n",
    "\n",
    "print(\"Recommended Movies:\")\n",
    "print(recommended_movies[['Title', 'Genre']])"
   ]
  }
 ],
 "metadata": {},
 "nbformat": 4,
 "nbformat_minor": 5
}