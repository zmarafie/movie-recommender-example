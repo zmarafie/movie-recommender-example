# Movie Recommendation System Example
import pandas as pd

# Step 1: Movie dataset
movies = pd.DataFrame({
    'MovieID': range(1, 21),
    'Title': [
        'Inception', 'The Godfather', 'Pulp Fiction', 'The Dark Knight', 'Interstellar',
        'Parasite', 'Avengers: Endgame', 'The Matrix', 'Forrest Gump', 'Titanic',
        'Frozen', 'Toy Story', 'Coco', 'The Lion King', 'Shrek',
        'Harry Potter', 'Lord of the Rings', 'Star Wars', 'Jurassic Park', 'Spider-Man'
    ],
    'Genre': [
        'Sci-Fi', 'Crime', 'Crime', 'Action', 'Sci-Fi',
        'Drama', 'Action', 'Sci-Fi', 'Drama', 'Romance',
        'Animation', 'Animation', 'Animation', 'Animation', 'Animation',
        'Fantasy', 'Fantasy', 'Sci-Fi', 'Adventure', 'Action'
    ]
})

# Step 2: User preferences
liked_movies = ['Inception', 'The Matrix', 'Toy Story']

# Step 3: Recommendation logic
liked_genres = movies[movies['Title'].isin(liked_movies)]['Genre'].unique()
recommended_movies = movies[
    (movies['Genre'].isin(liked_genres)) & (~movies['Title'].isin(liked_movies))
]

# Step 4: Output recommendations
print("Recommended Movies:")
print(recommended_movies[['Title', 'Genre']])
