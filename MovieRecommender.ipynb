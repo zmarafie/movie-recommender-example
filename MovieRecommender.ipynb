import pandas as pd
import random

# Step 1: Define the dataset
movies_data = [
    {"Title": "The Shawshank Redemption", "Genre": "Drama", "Rating": 4.9},
    {"Title": "The Godfather", "Genre": "Crime", "Rating": 4.8},
    {"Title": "The Dark Knight", "Genre": "Action", "Rating": 4.7},
    {"Title": "Pulp Fiction", "Genre": "Crime", "Rating": 4.6},
    {"Title": "Forrest Gump", "Genre": "Drama", "Rating": 4.5},
    {"Title": "Inception", "Genre": "Sci-Fi", "Rating": 4.7},
    {"Title": "The Lord of the Rings: The Return of the King", "Genre": "Fantasy", "Rating": 4.8},
    {"Title": "The Matrix", "Genre": "Sci-Fi", "Rating": 4.6},
    {"Title": "Fight Club", "Genre": "Drama", "Rating": 4.5},
    {"Title": "The Lord of the Rings: The Fellowship of the Ring", "Genre": "Fantasy", "Rating": 4.7},
    {"Title": "Star Wars: Episode V - The Empire Strikes Back", "Genre": "Sci-Fi", "Rating": 4.8},
    {"Title": "The Godfather Part II", "Genre": "Crime", "Rating": 4.7},
    {"Title": "The Lord of the Rings: The Two Towers", "Genre": "Fantasy", "Rating": 4.7},
    {"Title": "Interstellar", "Genre": "Sci-Fi", "Rating": 4.6},
    {"Title": "Parasite", "Genre": "Drama", "Rating": 4.6},
    {"Title": "Gladiator", "Genre": "Action", "Rating": 4.6},
    {"Title": "Schindler's List", "Genre": "Biography", "Rating": 4.9},
    {"Title": "The Silence of the Lambs", "Genre": "Thriller", "Rating": 4.7},
    {"Title": "Avengers: Endgame", "Genre": "Action", "Rating": 4.5},
    {"Title": "Saving Private Ryan", "Genre": "War", "Rating": 4.6},
    {"Title": "Braveheart", "Genre": "History", "Rating": 4.6},
    {"Title": "Joker", "Genre": "Drama", "Rating": 4.5},
    {"Title": "Titanic", "Genre": "Romance", "Rating": 4.7},
    {"Title": "Star Wars: Episode IV - A New Hope", "Genre": "Sci-Fi", "Rating": 4.8},
    {"Title": "Avengers: Infinity War", "Genre": "Action", "Rating": 4.5},
    {"Title": "The Green Mile", "Genre": "Drama", "Rating": 4.7},
    {"Title": "Spider-Man: No Way Home", "Genre": "Action", "Rating": 4.6},
    {"Title": "Seven Samurai", "Genre": "Adventure", "Rating": 4.8},
    {"Title": "Django Unchained", "Genre": "Western", "Rating": 4.6},
    {"Title": "The Departed", "Genre": "Crime", "Rating": 4.7},
    {"Title": "The Lion King (1994)", "Genre": "Animation", "Rating": 4.6},
    {"Title": "Whiplash", "Genre": "Drama", "Rating": 4.5},
    {"Title": "Goodfellas", "Genre": "Crime", "Rating": 4.8},
    {"Title": "The Prestige", "Genre": "Mystery", "Rating": 4.7},
    {"Title": "The Usual Suspects", "Genre": "Crime", "Rating": 4.6},
    {"Title": "The Social Network", "Genre": "Biography", "Rating": 4.5},
    {"Title": "The Wolf of Wall Street", "Genre": "Biography", "Rating": 4.4},
    {"Title": "A Beautiful Mind", "Genre": "Biography", "Rating": 4.6},
    {"Title": "The Truman Show", "Genre": "Drama", "Rating": 4.5},
    {"Title": "WALL-E", "Genre": "Animation", "Rating": 4.7},
]

# Add random movies to make a total of 100
genres = ['Action', 'Drama', 'Comedy', 'Sci-Fi', 'Horror', 'Romance', 'Fantasy', 'Adventure', 'Animation', 'Crime']
for i in range(len(movies_data) + 1, 101):
    movies_data.append({
        "Title": f"Movie {i}",
        "Genre": random.choice(genres),
        "Rating": round(random.uniform(3.0, 5.0), 2)
    })

# Convert dataset to a DataFrame
movies = pd.DataFrame(movies_data)

# Step 2: User Input
liked_movies = ["The Shawshank Redemption", "Inception", "The Matrix"]
print("\nLiked Movies:", liked_movies)

# Step 3: Analyze User Preferences
liked_genres = movies[movies['Title'].isin(liked_movies)]['Genre']
liked_genres_count = liked_genres.value_counts()
print("\nLiked Genres Distribution:")
print(liked_genres_count)

# Step 4: Recommend Movies
movies['GenreScore'] = movies['Genre'].apply(lambda g: liked_genres_count.get(g, 0))
movies['RecommendationScore'] = movies['GenreScore'] + movies['Rating']

# Exclude already liked movies
recommendations = movies[~movies['Title'].isin(liked_movies)]

# Sort by RecommendationScore and get top 5
top_5_recommendations = recommendations.sort_values(by='RecommendationScore', ascending=False).head(5)
print("\nTop 5 Recommended Movies:")
print(top_5_recommendations[['Title', 'Genre', 'Rating', 'RecommendationScore']])
