{\rtf1\ansi\ansicpg1252\cocoartf2708
\cocoatextscaling0\cocoaplatform0{\fonttbl\f0\fswiss\fcharset0 Helvetica;}
{\colortbl;\red255\green255\blue255;}
{\*\expandedcolortbl;;}
\margl1440\margr1440\vieww11520\viewh8400\viewkind0
\pard\tx720\tx1440\tx2160\tx2880\tx3600\tx4320\tx5040\tx5760\tx6480\tx7200\tx7920\tx8640\pardirnatural\partightenfactor0

\f0\fs24 \cf0 # Movie Recommendation System Example\
import pandas as pd\
\
# Step 1: Movie dataset\
movies = pd.DataFrame(\{\
    'MovieID': range(1, 21),\
    'Title': [\
        'Inception', 'The Godfather', 'Pulp Fiction', 'The Dark Knight', 'Interstellar',\
        'Parasite', 'Avengers: Endgame', 'The Matrix', 'Forrest Gump', 'Titanic',\
        'Frozen', 'Toy Story', 'Coco', 'The Lion King', 'Shrek',\
        'Harry Potter', 'Lord of the Rings', 'Star Wars', 'Jurassic Park', 'Spider-Man'\
    ],\
    'Genre': [\
        'Sci-Fi', 'Crime', 'Crime', 'Action', 'Sci-Fi',\
        'Drama', 'Action', 'Sci-Fi', 'Drama', 'Romance',\
        'Animation', 'Animation', 'Animation', 'Animation', 'Animation',\
        'Fantasy', 'Fantasy', 'Sci-Fi', 'Adventure', 'Action'\
    ]\
\})\
\
# Step 2: User preferences\
liked_movies = ['Inception', 'The Matrix', 'Toy Story']\
\
# Step 3: Recommendation logic\
liked_genres = movies[movies['Title'].isin(liked_movies)]['Genre'].unique()\
recommended_movies = movies[\
    (movies['Genre'].isin(liked_genres)) & (~movies['Title'].isin(liked_movies))\
]\
\
# Step 4: Output recommendations\
print("Recommended Movies:")\
print(recommended_movies[['Title', 'Genre']])\
}